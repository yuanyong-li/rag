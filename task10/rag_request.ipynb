{
 "cells": [
  {
   "cell_type": "code",
   "execution_count": 13,
   "id": "0697875a",
   "metadata": {},
   "outputs": [
    {
     "data": {
      "text/plain": [
       "{'msg': '数据查询成功。RAG查询成功。Graph RAG查询参数未达到启用条件。',\n",
       " 'code': 'SI-000',\n",
       " 'data': {'query': '里面描述了哪些故障',\n",
       "  'context': [],\n",
       "  'tag': [{'scene_tag': 'xczc_xczw_yhywgcs',\n",
       "    'province_tag': 'hq',\n",
       "    'specialty_tag': 'business_big_data_ai'}]},\n",
       " 'status': 'SUCCESS'}"
      ]
     },
     "execution_count": 13,
     "metadata": {},
     "output_type": "execute_result"
    }
   ],
   "source": [
    "import requests\n",
    "import json\n",
    "\n",
    "def query_faults(query_text):\n",
    "    url = \"http://10.141.179.170:20028/bm/query/kg/trag\"\n",
    "    headers = {\n",
    "        \"Content-Type\": \"application/json\",\n",
    "    }\n",
    "    body = {\n",
    "        \"query\": query_text,\n",
    "        \"tag\": [\n",
    "            {\n",
    "                \"scene_tag\": \"xczc_xczw_yhywgcs\",\n",
    "                \"province_tag\": \"hq\",\n",
    "                \"specialty_tag\": \"business_big_data_ai\"\n",
    "            },\n",
    "        ],\n",
    "        \"top_k\": 3,\n",
    "        \"show_image\": True,\n",
    "        \"score_threshold\": 0.1\n",
    "    }\n",
    "    \n",
    "    # 添加代理配置，具体代理网址需要查看http://127.0.0.1:18033/proxy.pac里的匹配内容\n",
    "    proxies = {\n",
    "        'http': 'http://10.141.248.54:8443',\n",
    "        'https': 'http://10.141.248.54:8443'\n",
    "    }\n",
    "    \n",
    "    response = requests.post(url, headers=headers, data=json.dumps(body), \n",
    "                        #    proxies=proxies, verify=False)\n",
    "                           proxies=proxies)\n",
    "    try:\n",
    "        response.raise_for_status()\n",
    "        return response.json()\n",
    "    except requests.exceptions.RequestException as e:\n",
    "        return {\"error\": str(e), \"status_code\": response.status_code, \"text\": response.text}\n",
    "\n",
    "\n",
    "query_faults(\"里面描述了哪些故障\")"
   ]
  }
 ],
 "metadata": {
  "kernelspec": {
   "display_name": "rag",
   "language": "python",
   "name": "python3"
  },
  "language_info": {
   "codemirror_mode": {
    "name": "ipython",
    "version": 3
   },
   "file_extension": ".py",
   "mimetype": "text/x-python",
   "name": "python",
   "nbconvert_exporter": "python",
   "pygments_lexer": "ipython3",
   "version": "3.9.23"
  }
 },
 "nbformat": 4,
 "nbformat_minor": 5
}
