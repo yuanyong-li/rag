{
 "cells": [
  {
   "cell_type": "code",
   "execution_count": null,
   "id": "e5103521",
   "metadata": {},
   "outputs": [],
   "source": [
    "from test import baseline_test, method1_test\n",
    "\n",
    "\n",
    "subquestions, subquestions__docs, \\\n",
    "        subquestions_docs_subanswer, checked_subquestions_docs_subanswer, \\\n",
    "        structured_evidence, final_answer, final_prompt = method1_test(\\\n",
    "        \"武汉5G高回落小区的主要原因是什么，它们的数量下降了多少，是否有可能通过调整某些技术手段来进一步减少回落现象？\", \\\n",
    "            'wlyh', 5)"
   ]
  }
 ],
 "metadata": {
  "kernelspec": {
   "display_name": "base",
   "language": "python",
   "name": "python3"
  },
  "language_info": {
   "codemirror_mode": {
    "name": "ipython",
    "version": 3
   },
   "file_extension": ".py",
   "mimetype": "text/x-python",
   "name": "python",
   "nbconvert_exporter": "python",
   "pygments_lexer": "ipython3",
   "version": "3.9.13"
  }
 },
 "nbformat": 4,
 "nbformat_minor": 5
}
