{
 "cells": [
  {
   "cell_type": "code",
   "execution_count": 2,
   "id": "e5103521",
   "metadata": {},
   "outputs": [
    {
     "name": "stderr",
     "output_type": "stream",
     "text": [
      "2025-08-05 17:09:27,729 - MyLogger - INFO - method1_test:102 - 复杂问题: 武汉5G高回落小区的主要原因是什么，它们的数量下降了多少，是否有可能通过调整某些技术手段来进一步减少回落现象？\n",
      "2025-08-05 17:09:27,729 - MyLogger - INFO - method1_test:103 - 最终答案: {'answer': '武汉5G高回落小区的主要原因是覆盖类问题，占比87.15%，包括弱覆盖、孤岛站、过远覆盖、邻区过少等问题。武汉5G高回落小区的数量下降了163个。通过调整技术手段，例如将5-4G互操作门限适当下探，尤其是NR侧启动异系统测量的A2事件门限适当下探降低，可以进一步减少5G回落现象。'}\n",
      "2025-08-05 17:09:27,729 - MyLogger - INFO - method1_test:106 - 时间统计:\n",
      "2025-08-05 17:09:27,729 - MyLogger - INFO - method1_test:108 -   generate_subquestions: 14.1813秒\n",
      "2025-08-05 17:09:27,729 - MyLogger - INFO - method1_test:108 -   retrieve_docs_for_subquestions: 7.2661秒\n",
      "2025-08-05 17:09:27,734 - MyLogger - INFO - method1_test:108 -   answer_subquestions_with_llm: 94.7478秒\n",
      "2025-08-05 17:09:27,735 - MyLogger - INFO - method1_test:108 -   check_faithfulness_and_relevance: 34.4256秒\n",
      "2025-08-05 17:09:27,735 - MyLogger - INFO - method1_test:108 -   build_structured_evidence: 0.0000秒\n",
      "2025-08-05 17:09:27,736 - MyLogger - INFO - method1_test:108 -   final_answer_with_rag_fusion: 23.8354秒\n"
     ]
    }
   ],
   "source": [
    "from test_function import method1_test\n",
    "\n",
    "\n",
    "subquestions, subquestions__docs, \\\n",
    "        subquestions_docs_subanswer, checked_subquestions_docs_subanswer, \\\n",
    "        structured_evidence, final_answer, final_prompt, timestatus = method1_test(\\\n",
    "        \"武汉5G高回落小区的主要原因是什么，它们的数量下降了多少，是否有可能通过调整某些技术手段来进一步减少回落现象？\", \\\n",
    "            'wlyh', 5)"
   ]
  },
  {
   "cell_type": "code",
   "execution_count": 8,
   "id": "119c3ad3",
   "metadata": {},
   "outputs": [
    {
     "data": {
      "text/plain": [
       "('武汉5G高回落小区的主要原因是什么？',\n",
       " [{'doc_name': '5GNR 高回落小区优化指导书V1.0-中兴-202304',\n",
       "   'img_url': '',\n",
       "   'text': '本文与基于覆盖原因导致回落的因素罗列、网络覆盖因素有关。\\n网络运维因素\\n  \\n 在网络规划、建设、开通基本合理的前提下，需要关注网络运维的情况，可以有如下的关注点：1. 小区退服导致5G覆盖不连续或弱覆盖，导致周围小区高回落比例较高。',\n",
       "   'url': 'http://10.141.179.170:20050/knowledge/detail?entry=remote&id=1233446604996939777'},\n",
       "  {'doc_name': '贵港市网络运营指标问题分析简报-0202(修正)',\n",
       "   'img_url': '',\n",
       "   'text': '本文与5G高回落小区分析有关。\\n原因归类:弱覆盖;2.1G:309;3.5G:22;总计:331\\n原因归类:其他问题;2.1G:41;3.5G:\\u3000;总计:41\\n原因归类:孤岛站;2.1G:23;3.5G:\\u3000;总计:23\\n原因归类:邻区过少;2.1G:6;3.5G:\\u3000;总计:6\\n原因归类:过远覆盖;2.1G:1;3.5G:1;总计:2\\n原因归类:总计;2.1G:380;3.5G:23;总计:403\\n原因归类:占比;2.1G:94.29%;3.5G:5.71%;总计:\\u3000\\n按覆盖场景划分，宏站问题小区主要集中在乡镇农村，市区问题小区主要集中室分小区。',\n",
       "   'url': 'http://10.141.179.170:20050/knowledge/detail?entry=remote&id=1233447537940172801'},\n",
       "  {'doc_name': '5GNR 高回落小区优化指导书V1.0-中兴-202304',\n",
       "   'img_url': '',\n",
       "   'text': '本文与高回落小区占比指标优化的一些经验举措、覆盖核查优化有关。\\n组网结构核查\\n  \\n覆盖不连续和弱覆盖是导致5G终端基于覆盖原因回落到4G的主要原因，针对高回落小区占比优化首先需要进行组网结构核查，和竟对或对标城市进行比对，发现组网结构上的劣势，进行针对性提升。从结构上分析主要有以下几点原因：\\n  \\n因此在结构分析中对于室分有4无5小区占比、4/5G室分分布不匹配占比、5G室外边缘覆盖小区占比、5G小区在服率等几项，需要重点关注。',\n",
       "   'url': 'http://10.141.179.170:20050/knowledge/detail?entry=remote&id=1233446604996939777'},\n",
       "  {'doc_name': '广西电信南宁5G高回落小区占比优化报告',\n",
       "   'img_url': '',\n",
       "   'text': '本文与三、5G高回落原因分析有关。\\n覆盖类原因的高回落小区数共712个小区，占比87.15%，需排查是否存在故障、下行过覆盖、超远覆盖、是否深度覆盖不足，孤岛、上下行弱覆盖、切换邻区等问题；\\n其他类原因的高回落小区数共103个小区，占比为12.61%，主要核查互操作参数是否有下探空间；\\n干扰类原因的高回落小区数共2个小区，占比为0.24%，干扰排查；',\n",
       "   'url': 'http://10.141.179.170:20050/knowledge/detail?entry=remote&id=1234433048259399681'},\n",
       "  {'doc_name': '贵港市网络运营指标问题分析简报-0202(修正)',\n",
       "   'img_url': '',\n",
       "   'text': '本文与5G高回落小区分析有关。\\n原因归类:\\u3000;宏站:市区;宏站:乡镇农村;宏站:总计;室分:总占比;室分:汇总;室分:市区;总计:县城;总占比:汇总\\n原因归类:弱覆盖;宏站:32;宏站:208;宏站:240;室分:85;室分:6;室分:91;总计:331;总占比:82.13%\\n原因归类:孤岛站;宏站:\\u3000;宏站:23;宏站:23;室分:\\u3000;室分:\\u3000;室分:\\u3000;总计:23;总占比:5.71%\\n原因归类:其他问题;宏站:\\u3000;宏站:4;宏站:4;室分:34;室分:3;室分:37;总计:41;总占比:10.17%\\n原因归类:邻区过少;宏站:2;宏站:\\u3000;宏站:2;室分:2;室分:2;室分:4;总计:6;总占比:1.49%\\n原因归类:过远覆盖;宏站:\\u3000;宏站:2;宏站:2;室分:\\u3000;室分:\\u3000;室分:\\u3000;总计:2;总占比:0.50%\\n原因归类:总计;宏站:34;宏站:237;宏站:271;室分:121;室分:11;室分:132;总计:403;总占比:\\u3000\\n原因归类:占比;宏站:8.44%;宏站:58.81%;宏站:\\u3000;室分:30.02%;室分:2.73%;室分:\\u3000;总计:\\u3000;总占比:',\n",
       "   'url': 'http://10.141.179.170:20050/knowledge/detail?entry=remote&id=1233447537940172801'}],\n",
       " {'reference': '覆盖类原因的高回落小区数共712个小区，占比87.15%，需排查是否存在故障、下行过覆盖、超远覆盖、是否深度覆盖不足，孤岛、上下行弱覆盖、切换邻区等问题；',\n",
       "  'answer': '武汉5G高回落小区的主要原因是覆盖类问题，占比87.15%，包括弱覆盖、孤岛站、过远覆盖、邻区过少等问题。'})"
      ]
     },
     "execution_count": 8,
     "metadata": {},
     "output_type": "execute_result"
    }
   ],
   "source": [
    "subquestions_docs_subanswer[0]"
   ]
  },
  {
   "cell_type": "code",
   "execution_count": 3,
   "id": "e4c6be43",
   "metadata": {},
   "outputs": [
    {
     "name": "stdout",
     "output_type": "stream",
     "text": [
      "\n",
      "你是一名严谨的研究专家。请根据以下结构化证据回答复杂问题。\n",
      "\n",
      "要求：\n",
      "- 必须严格按照提供的子问题答案或文档内容进行回答\n",
      "- 不允许引入任何外部知识或编造内容\n",
      "- 如果因为证据不足无法回答，请输出无法回答\n",
      "- 输出格式必须为JSON，包含以下字段：\n",
      "  - \"answer\": \"基于证据的综合回答\"\n",
      "\n",
      "The output should be formatted as a JSON instance that conforms to the JSON schema below.\n",
      "\n",
      "As an example, for the schema {\"properties\": {\"foo\": {\"title\": \"Foo\", \"description\": \"a list of strings\", \"type\": \"array\", \"items\": {\"type\": \"string\"}}}, \"required\": [\"foo\"]}\n",
      "the object {\"foo\": [\"bar\", \"baz\"]} is a well-formatted instance of the schema. The object {\"properties\": {\"foo\": [\"bar\", \"baz\"]}} is not well-formatted.\n",
      "\n",
      "Here is the output schema:\n",
      "```\n",
      "{\"properties\": {\"answer\": {\"description\": \"最终答案\", \"title\": \"Answer\", \"type\": \"string\"}}, \"required\": [\"answer\"]}\n",
      "```\n",
      "\n",
      "复杂问题：\n",
      "武汉5G高回落小区的主要原因是什么，它们的数量下降了多少，是否有可能通过调整某些技术手段来进一步减少回落现象？\n",
      "\n",
      "[子问题-答案]或[子问题-参考文档]：\n",
      "子问题1: 武汉5G高回落小区的主要原因是什么？\n",
      "武汉5G高回落小区的主要原因是覆盖类问题，占比87.15%，包括弱覆盖、孤岛站、过远覆盖、邻区过少等问题。\n",
      "\n",
      "子问题2: 武汉5G高回落小区的数量下降了多少？\n",
      "武汉5G高回落小区的数量下降了163个。\n",
      "\n",
      "子问题3: 有哪些技术手段可以用来减少5G回落现象？\n",
      "通过将5-4G互操作门限适当下探，尤其是NR侧启动异系统测量的A2事件门限适当下探降低，可以减少5G回落现象。\n",
      "\n",
      "子问题4: 通过调整技术手段是否可以进一步减少武汉5G回落现象？\n",
      "是的，通过调整技术手段可以进一步减少武汉5G回落现象。例如，可以优化门限下探参数，如B2_1的调整，以减少基于覆盖的回落次数。\n",
      "\n",
      "\n",
      "\n",
      "\n"
     ]
    }
   ],
   "source": [
    "print(final_prompt)"
   ]
  }
 ],
 "metadata": {
  "kernelspec": {
   "display_name": "rag",
   "language": "python",
   "name": "python3"
  },
  "language_info": {
   "codemirror_mode": {
    "name": "ipython",
    "version": 3
   },
   "file_extension": ".py",
   "mimetype": "text/x-python",
   "name": "python",
   "nbconvert_exporter": "python",
   "pygments_lexer": "ipython3",
   "version": "3.9.23"
  }
 },
 "nbformat": 4,
 "nbformat_minor": 5
}
