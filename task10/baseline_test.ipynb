{
 "cells": [
  {
   "cell_type": "code",
   "execution_count": 1,
   "id": "cd65ac6d",
   "metadata": {},
   "outputs": [
    {
     "name": "stderr",
     "output_type": "stream",
     "text": [
      "2025-08-01 11:34:57,215 - MyLogger - INFO - baseline_test:19 - 复杂问题: 武汉5G高回落小区的主要原因是什么，它们的数量下降了多少，是否有可能通过调整某些技术手段来进一步减少回落现象？\n",
      "2025-08-01 11:34:57,215 - MyLogger - INFO - baseline_test:19 - 复杂问题: 武汉5G高回落小区的主要原因是什么，它们的数量下降了多少，是否有可能通过调整某些技术手段来进一步减少回落现象？\n",
      "2025-08-01 11:34:57,216 - MyLogger - INFO - baseline_test:20 - 最终答案: 武汉5G高回落小区的主要原因包括弱覆盖、孤岛站、邻区过少、过远覆盖等网络覆盖和运维问题，其中弱覆盖是最主要的原因。高回落小区的数量从6829个下降至2699个，减少了4166个。通过调整技术手段，如互操作门限参数下探、质切参数优化、增加异系统切换门限的迟滞等，可以进一步减少5G回落现象。\n",
      "2025-08-01 11:34:57,216 - MyLogger - INFO - baseline_test:20 - 最终答案: 武汉5G高回落小区的主要原因包括弱覆盖、孤岛站、邻区过少、过远覆盖等网络覆盖和运维问题，其中弱覆盖是最主要的原因。高回落小区的数量从6829个下降至2699个，减少了4166个。通过调整技术手段，如互操作门限参数下探、质切参数优化、增加异系统切换门限的迟滞等，可以进一步减少5G回落现象。\n"
     ]
    }
   ],
   "source": [
    "from test import baseline_test\n",
    "\n",
    "\n",
    "subquestions, subquestions_docs, structured_evidence, \\\n",
    "        final_answer, final_prompt = baseline_test(\\\n",
    "        \"武汉5G高回落小区的主要原因是什么，它们的数量下降了多少，是否有可能通过调整某些技术手段来进一步减少回落现象？\", 'wlyh', 5)"
   ]
  },
  {
   "cell_type": "code",
   "execution_count": 6,
   "id": "210cc505",
   "metadata": {},
   "outputs": [],
   "source": [
    "from method1.main import retrieve_docs_for_subquestions\n",
    "\n",
    "ans = retrieve_docs_for_subquestions([\"subquestions_docs_subanswer = main.answer_subquesti\"], \"wlyh\")"
   ]
  }
 ],
 "metadata": {
  "kernelspec": {
   "display_name": "base",
   "language": "python",
   "name": "python3"
  },
  "language_info": {
   "codemirror_mode": {
    "name": "ipython",
    "version": 3
   },
   "file_extension": ".py",
   "mimetype": "text/x-python",
   "name": "python",
   "nbconvert_exporter": "python",
   "pygments_lexer": "ipython3",
   "version": "3.9.13"
  }
 },
 "nbformat": 4,
 "nbformat_minor": 5
}
